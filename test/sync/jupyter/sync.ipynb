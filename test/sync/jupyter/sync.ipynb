{
 "cells": [
  {
   "cell_type": "code",
   "id": "initial_id",
   "metadata": {
    "collapsed": true
   },
   "source": [
    "import time\n",
    "\n",
    "import swanlab\n",
    "\n",
    "run_dir = input(\"Enter the run directory path: \")\n",
    "\n",
    "while True:\n",
    "    swanlab.login()\n",
    "    swanlab.sync(dir_path=run_dir, id=\"auto\")\n",
    "    time.sleep(2)"
   ],
   "outputs": [],
   "execution_count": null
  }
 ],
 "metadata": {
  "kernelspec": {
   "display_name": "Python 3",
   "language": "python",
   "name": "python3"
  },
  "language_info": {
   "codemirror_mode": {
    "name": "ipython",
    "version": 2
   },
   "file_extension": ".py",
   "mimetype": "text/x-python",
   "name": "python",
   "nbconvert_exporter": "python",
   "pygments_lexer": "ipython2",
   "version": "2.7.6"
  }
 },
 "nbformat": 4,
 "nbformat_minor": 5
}
