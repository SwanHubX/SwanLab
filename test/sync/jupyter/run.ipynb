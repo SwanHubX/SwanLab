{
 "cells": [
  {
   "cell_type": "code",
   "id": "initial_id",
   "metadata": {
    "collapsed": true,
    "ExecuteTime": {
     "end_time": "2025-07-20T11:27:17.351037Z",
     "start_time": "2025-07-20T11:27:16.589918Z"
    }
   },
   "source": [
    "import os\n",
    "import random\n",
    "import time\n",
    "\n",
    "import numpy as np\n",
    "\n",
    "import swanlab\n",
    "from tutils import TEMP_PATH\n",
    "\n",
    "logdir = os.path.join(TEMP_PATH, \"sync\")"
   ],
   "outputs": [],
   "execution_count": 1
  },
  {
   "metadata": {
    "jupyter": {
     "is_executing": true
    },
    "ExecuteTime": {
     "start_time": "2025-07-20T11:27:20.617842Z"
    }
   },
   "cell_type": "code",
   "source": [
    "run = swanlab.init(logdir=logdir, reinit=True, mode=\"offline\", project=\"test-sync\", description=\"test-sync\", experiment_name=\"sync\")\n",
    "epochs = 500\n",
    "lr = 0.01\n",
    "offset = random.random() / 5\n",
    "\n",
    "swanlab.config.epochs = epochs\n",
    "swanlab.config.learning_rate = lr\n",
    "swanlab.config.offset = offset\n",
    "\n",
    "# 模拟训练\n",
    "for epoch in range(2, swanlab.config.epochs):\n",
    "    acc = 1 - 2**-epoch - random.random() / epoch - offset\n",
    "    loss = 2**-epoch + random.random() / epoch + offset\n",
    "    print(f\"epoch={epoch}, accuracy={acc}, loss={loss}\")\n",
    "    if epoch % 10 == 0:\n",
    "        # 测试image\n",
    "        images = [swanlab.Image(np.random.randint(0, 255, (100, 100, 3)), caption=\"test\") for _ in range(epoch // 10)]\n",
    "        swanlab.log({\"test/image\": images}, step=epoch)\n",
    "        # 测试折线图\n",
    "        swanlab.log({\"t/accuracy\": acc, \"loss\": loss})\n",
    "    else:\n",
    "        # 测试折线图\n",
    "        swanlab.log({\"t/accuracy\": acc, \"loss\": loss})\n",
    "    time.sleep(1)"
   ],
   "id": "526d9f0c515586d9",
   "outputs": [
    {
     "data": {
      "text/plain": [
       "\u001B[1;34mswanlab\u001B[0m\u001B[1;39m:\u001B[0m Tracking run with swanlab version \u001B[1;36m0.7\u001B[0m.\u001B[1;36m0\u001B[0m-dev\n"
      ],
      "text/html": [
       "<pre style=\"white-space:pre;overflow-x:auto;line-height:normal;font-family:Menlo,'DejaVu Sans Mono',consolas,'Courier New',monospace\"><span style=\"color: #000080; text-decoration-color: #000080; font-weight: bold\">swanlab</span><span style=\"color: #000000; text-decoration-color: #000000; font-weight: bold\">:</span> Tracking run with swanlab version <span style=\"color: #008080; text-decoration-color: #008080; font-weight: bold\">0.7</span>.<span style=\"color: #008080; text-decoration-color: #008080; font-weight: bold\">0</span>-dev\n",
       "</pre>\n"
      ]
     },
     "metadata": {},
     "output_type": "display_data"
    },
    {
     "data": {
      "text/plain": [
       "\u001B[1;34mswanlab\u001B[0m\u001B[1;39m:\u001B[0m Run data will be saved locally in \n",
       "\u001B[1;35m/Users/likang/Code/SwanLab/test/temp/sync/run-20250720_192720-7ztcqukrjia7ltu5ekd6a\u001B[0m\n"
      ],
      "text/html": [
       "<pre style=\"white-space:pre;overflow-x:auto;line-height:normal;font-family:Menlo,'DejaVu Sans Mono',consolas,'Courier New',monospace\"><span style=\"color: #000080; text-decoration-color: #000080; font-weight: bold\">swanlab</span><span style=\"color: #000000; text-decoration-color: #000000; font-weight: bold\">:</span> Run data will be saved locally in \n",
       "<span style=\"color: #800080; text-decoration-color: #800080; font-weight: bold\">/Users/likang/Code/SwanLab/test/temp/sync/run-20250720_192720-7ztcqukrjia7ltu5ekd6a</span>\n",
       "</pre>\n"
      ]
     },
     "metadata": {},
     "output_type": "display_data"
    },
    {
     "data": {
      "text/plain": [
       "\u001B[1;34mswanlab\u001B[0m\u001B[1;39m:\u001B[0m Backing up run \u001B[33msync\u001B[0m locally\n"
      ],
      "text/html": [
       "<pre style=\"white-space:pre;overflow-x:auto;line-height:normal;font-family:Menlo,'DejaVu Sans Mono',consolas,'Courier New',monospace\"><span style=\"color: #000080; text-decoration-color: #000080; font-weight: bold\">swanlab</span><span style=\"color: #000000; text-decoration-color: #000000; font-weight: bold\">:</span> Backing up run <span style=\"color: #808000; text-decoration-color: #808000\">sync</span> locally\n",
       "</pre>\n"
      ]
     },
     "metadata": {},
     "output_type": "display_data"
    },
    {
     "data": {
      "text/plain": [
       "\u001B[1;34mswanlab\u001B[0m\u001B[1;39m:\u001B[0m\u001B[1;34m \u001B[0m ☁️ Run `swanlab sync /Users/likang/Code/SwanLab/test/temp/sync/run-20250720_192720-7ztcqukrjia7ltu5ekd6a`\n",
       "to sync logs to remote server\n"
      ],
      "text/html": [
       "<pre style=\"white-space:pre;overflow-x:auto;line-height:normal;font-family:Menlo,'DejaVu Sans Mono',consolas,'Courier New',monospace\"><span style=\"color: #000080; text-decoration-color: #000080; font-weight: bold\">swanlab</span><span style=\"color: #000000; text-decoration-color: #000000; font-weight: bold\">:</span><span style=\"color: #000080; text-decoration-color: #000080; font-weight: bold\"> </span> ☁️ Run `swanlab sync /Users/likang/Code/SwanLab/test/temp/sync/run-20250720_192720-7ztcqukrjia7ltu5ekd6a`\n",
       "to sync logs to remote server\n",
       "</pre>\n"
      ]
     },
     "metadata": {},
     "output_type": "display_data"
    },
    {
     "name": "stdout",
     "output_type": "stream",
     "text": [
      "epoch=2, accuracy=0.6935032175873195, loss=0.6572494630995357\n",
      "epoch=3, accuracy=0.7316135275507363, loss=0.31558031274101295\n",
      "epoch=4, accuracy=0.6841140803767425, loss=0.17065340965935732\n",
      "epoch=5, accuracy=0.824885834948177, loss=0.08328707761174498\n",
      "epoch=6, accuracy=0.8222995702790137, loss=0.0896421180495583\n",
      "epoch=7, accuracy=0.8220911842220543, loss=0.16015091250557903\n",
      "epoch=8, accuracy=0.8992984858833243, loss=0.15466823823571724\n",
      "epoch=9, accuracy=0.9556118895443961, loss=0.12526493793804977\n",
      "epoch=10, accuracy=0.956739744145373, loss=0.0477564911890449\n",
      "epoch=11, accuracy=0.9470084114197835, loss=0.05587537277551438\n",
      "epoch=12, accuracy=0.8996119148195229, loss=0.07565075783722718\n",
      "epoch=13, accuracy=0.9186250958893946, loss=0.1009279818911637\n",
      "epoch=14, accuracy=0.9618419315369474, loss=0.07840676753243156\n",
      "epoch=15, accuracy=0.9083146995779852, loss=0.0449260046405027\n",
      "epoch=16, accuracy=0.9619016283993661, loss=0.06909200201825877\n",
      "epoch=17, accuracy=0.9306466783178313, loss=0.05291596924763243\n",
      "epoch=18, accuracy=0.9299649359052898, loss=0.06185993957561015\n",
      "epoch=19, accuracy=0.9402287268096479, loss=0.06429409310858349\n",
      "epoch=20, accuracy=0.9526629674314254, loss=0.04097024103117708\n",
      "epoch=21, accuracy=0.9352678683068143, loss=0.07014666773194084\n",
      "epoch=22, accuracy=0.9621558462240206, loss=0.040732025582866704\n",
      "epoch=23, accuracy=0.94525814479178, loss=0.03119041827452883\n",
      "epoch=24, accuracy=0.9341613210726385, loss=0.04159148348850375\n",
      "epoch=25, accuracy=0.9658137123978363, loss=0.053001440755734625\n",
      "epoch=26, accuracy=0.9615377277569389, loss=0.057939875098500314\n",
      "epoch=27, accuracy=0.9611953553139163, loss=0.04787627055552079\n",
      "epoch=28, accuracy=0.9503049639969426, loss=0.048877994473957326\n",
      "epoch=29, accuracy=0.9695283905047624, loss=0.03125151653091306\n",
      "epoch=30, accuracy=0.9621779494353815, loss=0.05474558507513158\n",
      "epoch=31, accuracy=0.94639692083955, loss=0.03573741136487177\n",
      "epoch=32, accuracy=0.9467537035790562, loss=0.045020997516552724\n",
      "epoch=33, accuracy=0.9460076330390386, loss=0.03212411996826697\n",
      "epoch=34, accuracy=0.9523660929079766, loss=0.048931895703656816\n",
      "epoch=35, accuracy=0.9668645696838168, loss=0.038266934597628144\n",
      "epoch=36, accuracy=0.9657775837357672, loss=0.04599838490149982\n",
      "epoch=37, accuracy=0.9555768603820871, loss=0.0331411553526765\n",
      "epoch=38, accuracy=0.9651873479664453, loss=0.03527604114794182\n",
      "epoch=39, accuracy=0.9527368136784995, loss=0.030824444479218404\n",
      "epoch=40, accuracy=0.9658828433647582, loss=0.04221279736642454\n",
      "epoch=41, accuracy=0.9482048209819244, loss=0.03936331025232142\n",
      "epoch=42, accuracy=0.95723082395635, loss=0.03690656662450183\n",
      "epoch=43, accuracy=0.965766211262522, loss=0.044007839844129544\n",
      "epoch=44, accuracy=0.9627118767942161, loss=0.05008579739618184\n",
      "epoch=45, accuracy=0.9648462087780796, loss=0.05144761097842218\n",
      "epoch=46, accuracy=0.9605544761778253, loss=0.04117031381986728\n",
      "epoch=47, accuracy=0.9562580585755984, loss=0.03989519260042254\n",
      "epoch=48, accuracy=0.9590735548214797, loss=0.04825172454951539\n",
      "epoch=49, accuracy=0.9525836256136125, loss=0.031241988745122663\n",
      "epoch=50, accuracy=0.9538699059060837, loss=0.046837504731234325\n",
      "epoch=51, accuracy=0.9576324059297258, loss=0.04678447325561605\n",
      "epoch=52, accuracy=0.9550664551293222, loss=0.038620908866383294\n",
      "epoch=53, accuracy=0.9682532739495452, loss=0.04356870335200188\n",
      "epoch=54, accuracy=0.9669193036085372, loss=0.037074175539973005\n",
      "epoch=55, accuracy=0.9567189260302388, loss=0.04013520035738219\n",
      "epoch=56, accuracy=0.9526389640694577, loss=0.03593685922773836\n",
      "epoch=57, accuracy=0.9541007189313069, loss=0.04697052850016757\n",
      "epoch=58, accuracy=0.9653283297206575, loss=0.03863665140153848\n",
      "epoch=59, accuracy=0.9638465578876825, loss=0.04231669893279621\n",
      "epoch=60, accuracy=0.9656236359874669, loss=0.04433715015364291\n",
      "epoch=61, accuracy=0.9646804360173903, loss=0.03305447745259911\n",
      "epoch=62, accuracy=0.9628686296735661, loss=0.04204712004456954\n",
      "epoch=63, accuracy=0.9564372980862678, loss=0.04082544409688699\n",
      "epoch=64, accuracy=0.9612576953391316, loss=0.034827972229359204\n",
      "epoch=65, accuracy=0.9658861035073486, loss=0.03048837197203182\n",
      "epoch=66, accuracy=0.9685072262028672, loss=0.037506923111614784\n",
      "epoch=67, accuracy=0.9657386039618845, loss=0.04188596312580942\n",
      "epoch=68, accuracy=0.9672516559738599, loss=0.03720404990739597\n",
      "epoch=69, accuracy=0.9595931559191322, loss=0.039515981927267234\n",
      "epoch=70, accuracy=0.9601144896806869, loss=0.03303356366374595\n",
      "epoch=71, accuracy=0.9612658479363744, loss=0.04425586695514143\n",
      "epoch=72, accuracy=0.961897146958558, loss=0.034875354504111805\n",
      "epoch=73, accuracy=0.9650511280638728, loss=0.034382627560718304\n",
      "epoch=74, accuracy=0.9613184537328897, loss=0.03581218121544562\n",
      "epoch=75, accuracy=0.9621465470501417, loss=0.03643134001411421\n",
      "epoch=76, accuracy=0.9643235373778117, loss=0.03901214735868226\n",
      "epoch=77, accuracy=0.9594621970704273, loss=0.03859619356722182\n",
      "epoch=78, accuracy=0.9617292871582948, loss=0.0344521148009382\n",
      "epoch=79, accuracy=0.9637968448781472, loss=0.04197409108278606\n",
      "epoch=80, accuracy=0.9684724326184956, loss=0.0390291503045498\n",
      "epoch=81, accuracy=0.9609763966718758, loss=0.03667033444305129\n",
      "epoch=82, accuracy=0.9598575866455659, loss=0.034215418180791615\n",
      "epoch=83, accuracy=0.9657640957066951, loss=0.0315650431686296\n",
      "epoch=84, accuracy=0.9626226535827683, loss=0.03888332473820513\n",
      "epoch=85, accuracy=0.9589509773990476, loss=0.04138638100515794\n",
      "epoch=86, accuracy=0.959587716300259, loss=0.03208606966055364\n",
      "epoch=87, accuracy=0.9599893437661292, loss=0.03382644120028121\n",
      "epoch=88, accuracy=0.9632109920223815, loss=0.0401177159584126\n",
      "epoch=89, accuracy=0.9603460846989827, loss=0.04087558429120732\n",
      "epoch=90, accuracy=0.9685255875614615, loss=0.034918331340435316\n",
      "epoch=91, accuracy=0.9660714675729876, loss=0.040944999938897886\n",
      "epoch=92, accuracy=0.9616309399557119, loss=0.03645903011452861\n",
      "epoch=93, accuracy=0.9644021308925663, loss=0.03751470030555448\n",
      "epoch=94, accuracy=0.967711641098377, loss=0.03732247153675314\n",
      "epoch=95, accuracy=0.9603941296022156, loss=0.031826869206300776\n",
      "epoch=96, accuracy=0.9598223281250524, loss=0.032272377406989086\n",
      "epoch=97, accuracy=0.9627372842373955, loss=0.03558970503039761\n",
      "epoch=98, accuracy=0.96381523517578, loss=0.03141188290012833\n",
      "epoch=99, accuracy=0.9631911502963131, loss=0.0399998282197573\n",
      "epoch=100, accuracy=0.9676443698769174, loss=0.03309279501148835\n",
      "epoch=101, accuracy=0.9646571150818913, loss=0.034146012970778974\n",
      "epoch=102, accuracy=0.9645184713023299, loss=0.03568566935046156\n",
      "epoch=103, accuracy=0.9651703317661352, loss=0.0401125092003417\n",
      "epoch=104, accuracy=0.9693360034203962, loss=0.03263796627652705\n",
      "epoch=105, accuracy=0.9653365220818344, loss=0.03432781117738181\n",
      "epoch=106, accuracy=0.9660429412942646, loss=0.03919586111462067\n",
      "epoch=107, accuracy=0.9690062774270698, loss=0.03335548971895927\n",
      "epoch=108, accuracy=0.9630126031193869, loss=0.0336346332687006\n",
      "epoch=109, accuracy=0.9620142907594057, loss=0.03788933811703096\n",
      "epoch=110, accuracy=0.9661314519213607, loss=0.03127651638012802\n",
      "epoch=111, accuracy=0.9655883509551781, loss=0.03611806708721697\n",
      "epoch=112, accuracy=0.9682840681553769, loss=0.030732300789544365\n",
      "epoch=113, accuracy=0.9639005294705352, loss=0.03743158692405591\n",
      "epoch=114, accuracy=0.9661039021367495, loss=0.037618795711152855\n",
      "epoch=115, accuracy=0.9692426165123644, loss=0.03389764158874658\n",
      "epoch=116, accuracy=0.9633225347261372, loss=0.0358128328725114\n",
      "epoch=117, accuracy=0.9681319635043956, loss=0.038264997425982286\n",
      "epoch=118, accuracy=0.9612766608831634, loss=0.0387161626971784\n",
      "epoch=119, accuracy=0.9651348886655159, loss=0.03597414178539518\n",
      "epoch=120, accuracy=0.9656342116661223, loss=0.038049641748101895\n",
      "epoch=121, accuracy=0.9632775564247461, loss=0.037080097245308384\n",
      "epoch=122, accuracy=0.9692702885030935, loss=0.03759687168741169\n",
      "epoch=123, accuracy=0.9693812582197062, loss=0.03838621470906021\n",
      "epoch=124, accuracy=0.9682723588910087, loss=0.03349718601097167\n",
      "epoch=125, accuracy=0.9686625909384985, loss=0.03689884058823989\n",
      "epoch=126, accuracy=0.9627820086344033, loss=0.03054793038229159\n",
      "epoch=127, accuracy=0.965716145550627, loss=0.03580055213157542\n",
      "epoch=128, accuracy=0.9681748060312504, loss=0.035803900163888173\n",
      "epoch=129, accuracy=0.9637503756481247, loss=0.031307270002890644\n",
      "epoch=130, accuracy=0.9684720232795063, loss=0.037002633786925906\n",
      "epoch=131, accuracy=0.967913057020614, loss=0.0318426985475606\n",
      "epoch=132, accuracy=0.9691108348954781, loss=0.033906531660867746\n",
      "epoch=133, accuracy=0.967701211619512, loss=0.03628509594679231\n",
      "epoch=134, accuracy=0.9692497815949541, loss=0.031572569241648384\n",
      "epoch=135, accuracy=0.9625008010080994, loss=0.036345364817317066\n",
      "epoch=136, accuracy=0.9682808075003774, loss=0.03647998227221469\n",
      "epoch=137, accuracy=0.9632872422196695, loss=0.03172997264454717\n",
      "epoch=138, accuracy=0.9675146064181651, loss=0.03623910490904315\n",
      "epoch=139, accuracy=0.9682039843464154, loss=0.031109224133387983\n",
      "epoch=140, accuracy=0.967714463167158, loss=0.03407539009186719\n",
      "epoch=141, accuracy=0.9694761051101721, loss=0.03142430155063587\n",
      "epoch=142, accuracy=0.9663732552810209, loss=0.030624804877104658\n",
      "epoch=143, accuracy=0.9667246970327067, loss=0.033195321615002785\n",
      "epoch=144, accuracy=0.9672156430749174, loss=0.03477869191221228\n",
      "epoch=145, accuracy=0.9666758193146239, loss=0.03196882012311905\n",
      "epoch=146, accuracy=0.9638860785372466, loss=0.03358649527507086\n",
      "epoch=147, accuracy=0.9628439976833193, loss=0.03204810749519109\n",
      "epoch=148, accuracy=0.9674559621836842, loss=0.03376235474902448\n",
      "epoch=149, accuracy=0.9637474985935179, loss=0.03264617225987456\n",
      "epoch=150, accuracy=0.9669778619725544, loss=0.03426678521912878\n",
      "epoch=151, accuracy=0.9647482671923219, loss=0.03255259857598531\n",
      "epoch=152, accuracy=0.967793134052578, loss=0.03331198767706562\n",
      "epoch=153, accuracy=0.9686171756934624, loss=0.03480700359530681\n",
      "epoch=154, accuracy=0.9693406451035502, loss=0.03061867956036729\n",
      "epoch=155, accuracy=0.9659143544107671, loss=0.03253108946631886\n",
      "epoch=156, accuracy=0.9667765384383863, loss=0.03447252428840069\n",
      "epoch=157, accuracy=0.9648971642580533, loss=0.031247291703360592\n",
      "epoch=158, accuracy=0.9645731931110451, loss=0.03163746629935929\n"
     ]
    }
   ],
   "execution_count": null
  }
 ],
 "metadata": {
  "kernelspec": {
   "display_name": "Python 3",
   "language": "python",
   "name": "python3"
  },
  "language_info": {
   "codemirror_mode": {
    "name": "ipython",
    "version": 2
   },
   "file_extension": ".py",
   "mimetype": "text/x-python",
   "name": "python",
   "nbconvert_exporter": "python",
   "pygments_lexer": "ipython2",
   "version": "2.7.6"
  }
 },
 "nbformat": 4,
 "nbformat_minor": 5
}
