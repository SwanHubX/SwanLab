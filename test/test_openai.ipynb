{
 "cells": [
  {
   "cell_type": "markdown",
   "metadata": {},
   "source": [
    "# Original"
   ]
  },
  {
   "cell_type": "code",
   "execution_count": null,
   "metadata": {},
   "outputs": [],
   "source": [
    "from openai import OpenAI\n",
    "import swanlab\n",
    "\n",
    "client = OpenAI()\n",
    "\n",
    "swanlab.init(experiment_name=\"Original_OpenAI\")\n",
    "response = client.chat.completions.create(\n",
    "    model=\"gpt-3.5-turbo-0125\",\n",
    "    messages=[\n",
    "        {\"role\": \"system\", \"content\": \"You are a helpful assistant designed to output JSON.\"},\n",
    "        {\"role\": \"user\", \"content\": \"Who won the world series in 2020?\"},\n",
    "    ],\n",
    ")\n",
    "\n",
    "print(response.choices[0].message.content)\n",
    "swanlab.log(\n",
    "    {\n",
    "        \"result\": [\n",
    "            swanlab.Text(caption=\"instruction\", data=\"You are a helpful assistant designed to output JSON.\"),\n",
    "            swanlab.Text(caption=\"id\", data=response.id),\n",
    "            swanlab.Text(caption=\"model\", data=response.model),\n",
    "            swanlab.Text(caption=\"completion_tokens\", data=response.usage.completion_tokens),\n",
    "            swanlab.Text(caption=\"prompt_tokens\", data=response.usage.prompt_tokens),\n",
    "            swanlab.Text(caption=\"total_tokens\", data=response.usage.total_tokens),\n",
    "            swanlab.Text(caption=\"response\", data=response.choices[0].message.content),\n",
    "        ]\n",
    "    }\n",
    ")\n"
   ]
  },
  {
   "cell_type": "markdown",
   "metadata": {},
   "source": [
    "![image.png](https://kashiwa-pic.oss-cn-beijing.aliyuncs.com/20240423164624.png)"
   ]
  },
  {
   "cell_type": "markdown",
   "metadata": {},
   "source": [
    "# Autolog"
   ]
  },
  {
   "cell_type": "code",
   "execution_count": 4,
   "metadata": {},
   "outputs": [
    {
     "name": "stdout",
     "output_type": "stream",
     "text": [
      "c:\\Users\\94427\\kashiwa\\swanlab\\test\n",
      "c:\\Users\\94427\\kashiwa\\swanlab\\test\\..\n"
     ]
    },
    {
     "ename": "ImportError",
     "evalue": "attempted relative import with no known parent package",
     "output_type": "error",
     "traceback": [
      "\u001b[1;31m---------------------------------------------------------------------------\u001b[0m",
      "\u001b[1;31mImportError\u001b[0m                               Traceback (most recent call last)",
      "Cell \u001b[1;32mIn[4], line 16\u001b[0m\n\u001b[0;32m     14\u001b[0m \u001b[38;5;28mprint\u001b[39m(current_dir)\n\u001b[0;32m     15\u001b[0m \u001b[38;5;28mprint\u001b[39m(relative_path)\n\u001b[1;32m---> 16\u001b[0m \u001b[38;5;28;01mfrom\u001b[39;00m \u001b[38;5;21;01m.\u001b[39;00m\u001b[38;5;21;01mswanlab\u001b[39;00m\u001b[38;5;21;01m.\u001b[39;00m\u001b[38;5;21;01mintergration\u001b[39;00m \u001b[38;5;28;01mimport\u001b[39;00m openai\n",
      "\u001b[1;31mImportError\u001b[0m: attempted relative import with no known parent package"
     ]
    }
   ],
   "source": [
    "import os\n",
    "import sys\n",
    "from .swanlab import openai\n",
    "from openai import OpenAI\n",
    "import swanlab\n",
    "import sys\n",
    "import os\n",
    "# 获取当前脚本所在的目录\n",
    "current_dir = %pwd\n",
    "# 构建相对路径\n",
    "relative_path = os.path.join(current_dir, '..',)\n",
    "# 将相对路径添加到sys.path\n",
    "sys.path.append(current_dir)\n",
    "sys.path.append(relative_path)\n",
    "print(current_dir)\n",
    "print(relative_path)\n",
    "from .swanlab import openai"
   ]
  }
 ],
 "metadata": {
  "kernelspec": {
   "display_name": "swanlab",
   "language": "python",
   "name": "python3"
  },
  "language_info": {
   "codemirror_mode": {
    "name": "ipython",
    "version": 3
   },
   "file_extension": ".py",
   "mimetype": "text/x-python",
   "name": "python",
   "nbconvert_exporter": "python",
   "pygments_lexer": "ipython3",
   "version": "3.10.13"
  }
 },
 "nbformat": 4,
 "nbformat_minor": 2
}
