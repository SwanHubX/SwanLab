{
 "cells": [
  {
   "cell_type": "markdown",
   "metadata": {},
   "source": [
    "## 初始化"
   ]
  },
  {
   "cell_type": "code",
   "execution_count": 5,
   "metadata": {},
   "outputs": [
    {
     "name": "stdout",
     "output_type": "stream",
     "text": [
      "Driver:531.14\n"
     ]
    }
   ],
   "source": [
    "from pynvml import *\n",
    "nvmlInit()     #初始化\n",
    "print(f'Driver:{nvmlSystemGetDriverVersion()}')\n"
   ]
  },
  {
   "cell_type": "markdown",
   "metadata": {},
   "source": [
    "## 数量获取和打印"
   ]
  },
  {
   "cell_type": "code",
   "execution_count": 6,
   "metadata": {},
   "outputs": [
    {
     "name": "stdout",
     "output_type": "stream",
     "text": [
      "GPU 0 : NVIDIA GeForce RTX 3060\n"
     ]
    }
   ],
   "source": [
    "deviceCount = nvmlDeviceGetCount()\n",
    "for i in range(deviceCount):\n",
    "    handle = nvmlDeviceGetHandleByIndex(i)\n",
    "    print(\"GPU\", i, \":\", nvmlDeviceGetName(handle))\n"
   ]
  },
  {
   "cell_type": "code",
   "execution_count": 7,
   "metadata": {},
   "outputs": [
    {
     "name": "stdout",
     "output_type": "stream",
     "text": [
      "1\n"
     ]
    }
   ],
   "source": [
    "print(deviceCount)"
   ]
  },
  {
   "cell_type": "markdown",
   "metadata": {},
   "source": [
    "## 0.索引"
   ]
  },
  {
   "cell_type": "code",
   "execution_count": 8,
   "metadata": {},
   "outputs": [],
   "source": [
    "handle = nvmlDeviceGetHandleByIndex(0)\n",
    "info = nvmlDeviceGetMemoryInfo(handle)\n",
    "\n",
    "\n"
   ]
  },
  {
   "cell_type": "markdown",
   "metadata": {},
   "source": [
    "## 1.占用内存"
   ]
  },
  {
   "cell_type": "code",
   "execution_count": 15,
   "metadata": {},
   "outputs": [
    {
     "name": "stdout",
     "output_type": "stream",
     "text": [
      "Memory Total:  12.0\n",
      "Memory Free:  9.723743438720703\n",
      "Memory Used:  2.276256561279297\n"
     ]
    }
   ],
   "source": [
    "print(\"Memory Total: \",info.total/1024**3)\n",
    "print(\"Memory Free: \",info.free/1024**3)\n",
    "print(\"Memory Used: \",info.used/1024**3)\n",
    "gpu_0_mem_usage=info.used/1024**3"
   ]
  },
  {
   "cell_type": "code",
   "execution_count": 16,
   "metadata": {},
   "outputs": [
    {
     "name": "stdout",
     "output_type": "stream",
     "text": [
      "2.276256561279297\n"
     ]
    }
   ],
   "source": [
    "print(gpu_0_mem_usage)"
   ]
  },
  {
   "cell_type": "markdown",
   "metadata": {},
   "source": [
    "## 2. gpu功耗"
   ]
  },
  {
   "cell_type": "code",
   "execution_count": 17,
   "metadata": {},
   "outputs": [
    {
     "name": "stdout",
     "output_type": "stream",
     "text": [
      "Power ststus 8\n"
     ]
    }
   ],
   "source": [
    "print(\"Power ststus\",nvmlDeviceGetPowerState(handle))"
   ]
  },
  {
   "cell_type": "code",
   "execution_count": 18,
   "metadata": {},
   "outputs": [
    {
     "name": "stdout",
     "output_type": "stream",
     "text": [
      "GPU 0 Power Usage: 0.008 W\n"
     ]
    }
   ],
   "source": [
    "print(f\"GPU {i} Power Usage: {nvmlDeviceGetPowerState(handle)/ 1000.0} W\")"
   ]
  },
  {
   "cell_type": "markdown",
   "metadata": {},
   "source": [
    "## 3.温度"
   ]
  },
  {
   "cell_type": "code",
   "execution_count": 23,
   "metadata": {},
   "outputs": [
    {
     "name": "stdout",
     "output_type": "stream",
     "text": [
      "26 C\n"
     ]
    }
   ],
   "source": [
    "gpu_0_temperature=nvmlDeviceGetTemperature(handle,NVML_TEMPERATURE_GPU)\n",
    "\n",
    "print(f'{gpu_0_temperature} C')"
   ]
  },
  {
   "cell_type": "markdown",
   "metadata": {},
   "source": [
    "## 4.利用率"
   ]
  },
  {
   "cell_type": "code",
   "execution_count": 25,
   "metadata": {},
   "outputs": [
    {
     "name": "stdout",
     "output_type": "stream",
     "text": [
      "GPU Utilization: 12%\n",
      "Memory Utilization: 15%\n"
     ]
    }
   ],
   "source": [
    "gpu_0_utilization=nvmlDeviceGetUtilizationRates(handle)\n",
    "print(f\"GPU Utilization: {gpu_0_utilization.gpu}%\")\n"
   ]
  },
  {
   "cell_type": "markdown",
   "metadata": {},
   "source": [
    "## 7.网络接收速度"
   ]
  },
  {
   "cell_type": "code",
   "execution_count": 29,
   "metadata": {},
   "outputs": [
    {
     "name": "stdout",
     "output_type": "stream",
     "text": [
      "Receive speed: 7276.681371774321 bytes/s\n",
      "Send speed: 2233.2122306760284 bytes/s\n",
      "0.03446259752244425\n"
     ]
    }
   ],
   "source": [
    "import psutil\n",
    "import time\n",
    "\n",
    "def get_net_io_speed(interval=1):\n",
    "    # 获取初始时间和网络IO统计数据\n",
    "    initial_net_io = psutil.net_io_counters()\n",
    "    initial_time = time.time()\n",
    "    \n",
    "    # 等待一段时间\n",
    "    time.sleep(interval)\n",
    "    \n",
    "    # 再次获取当前时间和网络IO统计数据\n",
    "    current_net_io = psutil.net_io_counters()\n",
    "    current_time = time.time()\n",
    "    \n",
    "    # 计算时间间隔\n",
    "    time_elapsed = current_time - initial_time\n",
    "    \n",
    "    # 计算接收和发送的字节数\n",
    "    bytes_recv = current_net_io.bytes_recv - initial_net_io.bytes_recv\n",
    "    bytes_sent = current_net_io.bytes_sent - initial_net_io.bytes_sent\n",
    "    \n",
    "    # 计算速度（字节/秒）\n",
    "    recv_speed = bytes_recv / time_elapsed\n",
    "    sent_speed = bytes_sent / time_elapsed\n",
    "    \n",
    "    return recv_speed, sent_speed\n",
    "\n",
    "# 获取网络接收和发送速度\n",
    "recv_speed, sent_speed = get_net_io_speed(interval=1)\n",
    "print(f\"Receive speed: {recv_speed} bytes/s\")\n",
    "print(f\"Send speed: {sent_speed} bytes/s\")\n",
    "aa=get_net_io_speed()[0]/1024**2\n",
    "print(aa)\n"
   ]
  },
  {
   "cell_type": "markdown",
   "metadata": {},
   "source": [
    "## 8.磁盘输入输出操作数据量"
   ]
  },
  {
   "cell_type": "code",
   "execution_count": 34,
   "metadata": {},
   "outputs": [
    {
     "name": "stdout",
     "output_type": "stream",
     "text": [
      "Read count: 7174293\n",
      "Write count: 4213979\n",
      "Read bytes: 607538082816\n",
      "Write bytes: 88525298176\n",
      "Read time: 2838\n",
      "Write time: 2193\n"
     ]
    }
   ],
   "source": [
    "import psutil\n",
    "\n",
    "# 获取磁盘I/O信息\n",
    "disk_io = psutil.disk_io_counters()\n",
    "\n",
    "# 打印磁盘I/O统计信息\n",
    "print(f\"Read count: {disk_io.read_count}\")  # 磁盘读取次数\n",
    "print(f\"Write count: {disk_io.write_count}\")  # 磁盘写入次数\n",
    "print(f\"Read bytes: {disk_io.read_bytes}\")  # 磁盘读取的字节数\n",
    "print(f\"Write bytes: {disk_io.write_bytes}\")  # 磁盘写入的字节数\n",
    "print(f\"Read time: {disk_io.read_time}\")  # 磁盘读取操作花费的毫秒数\n",
    "print(f\"Write time: {disk_io.write_time}\")  # 磁盘写入操作花费的毫秒数\n"
   ]
  },
  {
   "cell_type": "code",
   "execution_count": 38,
   "metadata": {},
   "outputs": [
    {
     "name": "stdout",
     "output_type": "stream",
     "text": [
      "663817.7690429688\n"
     ]
    }
   ],
   "source": [
    "disk_io_mbs = (disk_io.read_bytes+disk_io.write_bytes)/1024**2\n",
    "print(disk_io_mbs)"
   ]
  },
  {
   "cell_type": "markdown",
   "metadata": {},
   "source": [
    "## 磁盘占用率"
   ]
  },
  {
   "cell_type": "code",
   "execution_count": null,
   "metadata": {},
   "outputs": [],
   "source": []
  }
 ],
 "metadata": {
  "kernelspec": {
   "display_name": "swanlab",
   "language": "python",
   "name": "python3"
  },
  "language_info": {
   "codemirror_mode": {
    "name": "ipython",
    "version": 3
   },
   "file_extension": ".py",
   "mimetype": "text/x-python",
   "name": "python",
   "nbconvert_exporter": "python",
   "pygments_lexer": "ipython3",
   "version": "3.10.13"
  }
 },
 "nbformat": 4,
 "nbformat_minor": 2
}
