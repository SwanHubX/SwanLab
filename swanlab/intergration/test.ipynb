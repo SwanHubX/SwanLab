{
 "cells": [
  {
   "cell_type": "code",
   "execution_count": 3,
   "metadata": {},
   "outputs": [
    {
     "ename": "ImportError",
     "evalue": "cannot import name 'OpenAI' from 'openai' (c:\\Users\\94427\\anaconda3\\envs\\swanlab\\lib\\site-packages\\openai\\__init__.py)",
     "output_type": "error",
     "traceback": [
      "\u001b[1;31m---------------------------------------------------------------------------\u001b[0m",
      "\u001b[1;31mImportError\u001b[0m                               Traceback (most recent call last)",
      "Cell \u001b[1;32mIn[3], line 4\u001b[0m\n\u001b[0;32m      2\u001b[0m \u001b[38;5;28;01mimport\u001b[39;00m \u001b[38;5;21;01msys\u001b[39;00m\n\u001b[0;32m      3\u001b[0m \u001b[38;5;28;01mimport\u001b[39;00m \u001b[38;5;21;01mswanlab\u001b[39;00m\n\u001b[1;32m----> 4\u001b[0m \u001b[38;5;28;01mfrom\u001b[39;00m \u001b[38;5;21;01mopenai\u001b[39;00m \u001b[38;5;28;01mimport\u001b[39;00m OpenAI\n\u001b[0;32m      6\u001b[0m \u001b[38;5;28;01mimport\u001b[39;00m \u001b[38;5;21;01msys\u001b[39;00m\n\u001b[0;32m      7\u001b[0m \u001b[38;5;28;01mimport\u001b[39;00m \u001b[38;5;21;01mos\u001b[39;00m\n",
      "\u001b[1;31mImportError\u001b[0m: cannot import name 'OpenAI' from 'openai' (c:\\Users\\94427\\anaconda3\\envs\\swanlab\\lib\\site-packages\\openai\\__init__.py)"
     ]
    }
   ],
   "source": [
    "import os\n",
    "import sys\n",
    "import swanlab\n",
    "from openai import OpenAI\n",
    "\n",
    "import sys\n",
    "import os\n",
    "current_dir = %pwd\n",
    "relative_path = os.path.join(current_dir, '..',)\n",
    "sys.path.append(relative_path)\n",
    "\n",
    "from intergration.sw_openai import autolog,OpenAIRequestResponseResolver"
   ]
  },
  {
   "cell_type": "code",
   "execution_count": null,
   "metadata": {},
   "outputs": [
    {
     "name": "stdout",
     "output_type": "stream",
     "text": [
      "Enabling OpenAI autologging.\n",
      "\u001b[32m[SwanLab-INFO]:      \u001b[0m  Experiment openai_logging18_Apr23_19-37-01 has been registered.\n",
      "\u001b[32m[SwanLab-INFO]:      \u001b[0m  Run data will be saved locally in c:\\Users\\94427\\kashiwa\\swanlab\\swanlab\\intergration\\swanlog\\run-20240423_193701-73410544\n",
      "\u001b[32m[SwanLab-INFO]:      \u001b[0m  Experiment_name: openai_logging18_Apr23_19-37-01\n",
      "\u001b[32m[SwanLab-INFO]:      \u001b[0m  Run `swanlab watch` to view SwanLab Experiment Dashboard\n",
      "symbol是['OpenAI()', 'Chat', 'Completion', 'create']\n",
      "Api是<module 'openai' from 'c:\\\\Users\\\\94427\\\\anaconda3\\\\envs\\\\swanlab\\\\lib\\\\site-packages\\\\openai\\\\__init__.py'>\n"
     ]
    },
    {
     "ename": "AttributeError",
     "evalue": "module 'openai' has no attribute 'OpenAI()'",
     "output_type": "error",
     "traceback": [
      "\u001b[1;31m---------------------------------------------------------------------------\u001b[0m",
      "\u001b[1;31mAttributeError\u001b[0m                            Traceback (most recent call last)",
      "Cell \u001b[1;32mIn[2], line 3\u001b[0m\n\u001b[0;32m      1\u001b[0m client \u001b[38;5;241m=\u001b[39m OpenAI()\n\u001b[1;32m----> 3\u001b[0m \u001b[43mautolog\u001b[49m\u001b[43m(\u001b[49m\u001b[43minit\u001b[49m\u001b[38;5;241;43m=\u001b[39;49m\u001b[38;5;28;43mdict\u001b[39;49m\u001b[43m(\u001b[49m\u001b[43mexperiment_name\u001b[49m\u001b[38;5;241;43m=\u001b[39;49m\u001b[38;5;124;43m\"\u001b[39;49m\u001b[38;5;124;43mopenai_logging18\u001b[39;49m\u001b[38;5;124;43m\"\u001b[39;49m\u001b[43m)\u001b[49m\u001b[43m)\u001b[49m\n\u001b[0;32m      4\u001b[0m response \u001b[38;5;241m=\u001b[39m client\u001b[38;5;241m.\u001b[39mchat\u001b[38;5;241m.\u001b[39mcompletions\u001b[38;5;241m.\u001b[39mcreate(\n\u001b[0;32m      5\u001b[0m     model\u001b[38;5;241m=\u001b[39m\u001b[38;5;124m\"\u001b[39m\u001b[38;5;124mgpt-3.5-turbo-0125\u001b[39m\u001b[38;5;124m\"\u001b[39m,\n\u001b[0;32m      6\u001b[0m     messages\u001b[38;5;241m=\u001b[39m[\n\u001b[1;32m   (...)\u001b[0m\n\u001b[0;32m      9\u001b[0m     ],\n\u001b[0;32m     10\u001b[0m )\n\u001b[0;32m     12\u001b[0m \u001b[38;5;28mprint\u001b[39m(response\u001b[38;5;241m.\u001b[39mchoices[\u001b[38;5;241m0\u001b[39m]\u001b[38;5;241m.\u001b[39mmessage\u001b[38;5;241m.\u001b[39mcontent)\n",
      "File \u001b[1;32mc:\\Users\\94427\\kashiwa\\swanlab\\swanlab\\intergration\\intergration_utils\\autologging.py:194\u001b[0m, in \u001b[0;36mAutologAPI.__call__\u001b[1;34m(self, init)\u001b[0m\n\u001b[0;32m    192\u001b[0m \u001b[38;5;28;01mdef\u001b[39;00m \u001b[38;5;21m__call__\u001b[39m(\u001b[38;5;28mself\u001b[39m, init: AutologInitArgs \u001b[38;5;241m=\u001b[39m \u001b[38;5;28;01mNone\u001b[39;00m) \u001b[38;5;241m-\u001b[39m\u001b[38;5;241m>\u001b[39m \u001b[38;5;28;01mNone\u001b[39;00m:\n\u001b[0;32m    193\u001b[0m \u001b[38;5;250m    \u001b[39m\u001b[38;5;124;03m\"\"\"Enable autologging.\"\"\"\u001b[39;00m\n\u001b[1;32m--> 194\u001b[0m     \u001b[38;5;28;43mself\u001b[39;49m\u001b[38;5;241;43m.\u001b[39;49m\u001b[43menable\u001b[49m\u001b[43m(\u001b[49m\u001b[43minit\u001b[49m\u001b[38;5;241;43m=\u001b[39;49m\u001b[43minit\u001b[49m\u001b[43m)\u001b[49m\n",
      "File \u001b[1;32mc:\\Users\\94427\\kashiwa\\swanlab\\swanlab\\intergration\\intergration_utils\\autologging.py:219\u001b[0m, in \u001b[0;36mAutologAPI.enable\u001b[1;34m(self, init)\u001b[0m\n\u001b[0;32m    216\u001b[0m \u001b[38;5;28mprint\u001b[39m(\u001b[38;5;124mf\u001b[39m\u001b[38;5;124m\"\u001b[39m\u001b[38;5;124mEnabling \u001b[39m\u001b[38;5;132;01m{\u001b[39;00m\u001b[38;5;28mself\u001b[39m\u001b[38;5;241m.\u001b[39m_name\u001b[38;5;132;01m}\u001b[39;00m\u001b[38;5;124m autologging.\u001b[39m\u001b[38;5;124m\"\u001b[39m)\n\u001b[0;32m    217\u001b[0m \u001b[38;5;28mself\u001b[39m\u001b[38;5;241m.\u001b[39m_run_init(init\u001b[38;5;241m=\u001b[39minit)\n\u001b[1;32m--> 219\u001b[0m \u001b[38;5;28;43mself\u001b[39;49m\u001b[38;5;241;43m.\u001b[39;49m\u001b[43m_patch_api\u001b[49m\u001b[38;5;241;43m.\u001b[39;49m\u001b[43mpatch\u001b[49m\u001b[43m(\u001b[49m\u001b[38;5;28;43mself\u001b[39;49m\u001b[38;5;241;43m.\u001b[39;49m\u001b[43m_run\u001b[49m\u001b[43m)\u001b[49m\n",
      "File \u001b[1;32mc:\\Users\\94427\\kashiwa\\swanlab\\swanlab\\intergration\\intergration_utils\\autologging.py:97\u001b[0m, in \u001b[0;36mPatchAPI.patch\u001b[1;34m(self, run)\u001b[0m\n\u001b[0;32m     95\u001b[0m \u001b[38;5;28mprint\u001b[39m(\u001b[38;5;124mf\u001b[39m\u001b[38;5;124m\"\u001b[39m\u001b[38;5;124mApi是\u001b[39m\u001b[38;5;132;01m{\u001b[39;00m\u001b[38;5;28mself\u001b[39m\u001b[38;5;241m.\u001b[39mset_api\u001b[38;5;132;01m}\u001b[39;00m\u001b[38;5;124m\"\u001b[39m)\n\u001b[0;32m     96\u001b[0m \u001b[38;5;66;03m# and get the attribute from the module\u001b[39;00m\n\u001b[1;32m---> 97\u001b[0m original \u001b[38;5;241m=\u001b[39m \u001b[43mfunctools\u001b[49m\u001b[38;5;241;43m.\u001b[39;49m\u001b[43mreduce\u001b[49m\u001b[43m(\u001b[49m\u001b[38;5;28;43mgetattr\u001b[39;49m\u001b[43m,\u001b[49m\u001b[43m \u001b[49m\u001b[43msymbol_parts\u001b[49m\u001b[43m,\u001b[49m\u001b[43m \u001b[49m\u001b[38;5;28;43mself\u001b[39;49m\u001b[38;5;241;43m.\u001b[39;49m\u001b[43mset_api\u001b[49m\u001b[43m)\u001b[49m\n\u001b[0;32m     98\u001b[0m \u001b[38;5;28mprint\u001b[39m(\u001b[38;5;124mf\u001b[39m\u001b[38;5;124m\"\u001b[39m\u001b[38;5;124m旧方法是\u001b[39m\u001b[38;5;132;01m{\u001b[39;00moriginal\u001b[38;5;132;01m}\u001b[39;00m\u001b[38;5;124m\"\u001b[39m)\n\u001b[0;32m     99\u001b[0m original_name \u001b[38;5;241m=\u001b[39m \u001b[38;5;28mgetattr\u001b[39m(original, \u001b[38;5;124m\"\u001b[39m\u001b[38;5;124m__name__\u001b[39m\u001b[38;5;124m\"\u001b[39m)\n",
      "\u001b[1;31mAttributeError\u001b[0m: module 'openai' has no attribute 'OpenAI()'"
     ]
    }
   ],
   "source": [
    "client = OpenAI()\n",
    "\n",
    "autolog(init=dict(experiment_name=\"openai_logging123\"))\n",
    "response = client.chat.completions.create(\n",
    "    model=\"gpt-3.5-turbo-0125\",\n",
    "    messages=[\n",
    "        {\"role\": \"system\", \"content\": \"You are a helpful assistant designed to output JSON.\"},\n",
    "        {\"role\": \"user\", \"content\": \"Who won the world series in 2015?\"},\n",
    "    ],\n",
    ")\n",
    "\n",
    "print(response.choices[0].message.content)\n",
    "# swanlab.log(\n",
    "#     {\n",
    "#         \"result\": [\n",
    "#             swanlab.Text(caption=\"instruction\", data=\"You are a helpful assistant designed to output JSON.\"),\n",
    "#             swanlab.Text(caption=\"id\", data=response.id),\n",
    "#             swanlab.Text(caption=\"model\", data=response.model),\n",
    "#             swanlab.Text(caption=\"completion_tokens\", data=response.usage.completion_tokens),\n",
    "#             swanlab.Text(caption=\"prompt_tokens\", data=response.usage.prompt_tokens),\n",
    "#             swanlab.Text(caption=\"total_tokens\", data=response.usage.total_tokens),\n",
    "#             swanlab.Text(caption=\"response\", data=response.choices[0].message.content),\n",
    "#         ]\n",
    "#     }\n",
    "# )\n"
   ]
  },
  {
   "cell_type": "code",
   "execution_count": 1,
   "metadata": {},
   "outputs": [],
   "source": [
    "import os\n",
    "import sys\n",
    "import swanlab\n",
    "import openai\n",
    "\n",
    "import sys\n",
    "import os\n",
    "current_dir = %pwd\n",
    "relative_path = os.path.join(current_dir, '..',)\n",
    "sys.path.append(relative_path)\n",
    "\n",
    "from intergration.sw_openai import autolog,OpenAIRequestResponseResolver"
   ]
  },
  {
   "cell_type": "code",
   "execution_count": 2,
   "metadata": {},
   "outputs": [
    {
     "name": "stdout",
     "output_type": "stream",
     "text": [
      "Enabling OpenAI autologging.\n",
      "\u001b[32m[SwanLab-INFO]:      \u001b[0m  Experiment openai_logging1221_Apr23_20-25-09 has been registered.\n",
      "\u001b[32m[SwanLab-INFO]:      \u001b[0m  Run data will be saved locally in c:\\Users\\94427\\kashiwa\\swanlab\\swanlab\\intergration\\swanlog\\run-20240423_202509-4196c8f7\n",
      "\u001b[32m[SwanLab-INFO]:      \u001b[0m  Experiment_name: openai_logging1221_Apr23_20-25-09\n",
      "\u001b[32m[SwanLab-INFO]:      \u001b[0m  Run `swanlab watch` to view SwanLab Experiment Dashboard\n",
      "symbol是['ChatCompletion', 'create']\n",
      "Api是<module 'openai' from 'c:\\\\Users\\\\94427\\\\anaconda3\\\\envs\\\\swanlab\\\\lib\\\\site-packages\\\\openai\\\\__init__.py'>\n",
      "旧方法是<bound method ChatCompletion.create of <class 'openai.api_resources.chat_completion.ChatCompletion'>>\n",
      "symbol是['Edit', 'create']\n",
      "Api是<module 'openai' from 'c:\\\\Users\\\\94427\\\\anaconda3\\\\envs\\\\swanlab\\\\lib\\\\site-packages\\\\openai\\\\__init__.py'>\n",
      "旧方法是<bound method Edit.create of <class 'openai.api_resources.edit.Edit'>>\n",
      "symbol是['Completion', 'create']\n",
      "Api是<module 'openai' from 'c:\\\\Users\\\\94427\\\\anaconda3\\\\envs\\\\swanlab\\\\lib\\\\site-packages\\\\openai\\\\__init__.py'>\n",
      "旧方法是<bound method Completion.create of <class 'openai.api_resources.completion.Completion'>>\n",
      "symbol是['Edit', 'acreate']\n",
      "Api是<module 'openai' from 'c:\\\\Users\\\\94427\\\\anaconda3\\\\envs\\\\swanlab\\\\lib\\\\site-packages\\\\openai\\\\__init__.py'>\n",
      "旧方法是<bound method Edit.acreate of <class 'openai.api_resources.edit.Edit'>>\n",
      "symbol是['Completion', 'acreate']\n",
      "Api是<module 'openai' from 'c:\\\\Users\\\\94427\\\\anaconda3\\\\envs\\\\swanlab\\\\lib\\\\site-packages\\\\openai\\\\__init__.py'>\n",
      "旧方法是<bound method Completion.acreate of <class 'openai.api_resources.completion.Completion'>>\n",
      "symbol是['ChatCompletion', 'acreate']\n",
      "Api是<module 'openai' from 'c:\\\\Users\\\\94427\\\\anaconda3\\\\envs\\\\swanlab\\\\lib\\\\site-packages\\\\openai\\\\__init__.py'>\n",
      "旧方法是<bound method ChatCompletion.acreate of <class 'openai.api_resources.chat_completion.ChatCompletion'>>\n",
      "结果是2\n",
      "这是新方法2\n",
      "request是{'model': 'gpt-3.5-turbo', 'messages': [{'role': 'system', 'content': 'You are a helpful assistant.'}, {'role': 'user', 'content': 'Who won the world series in 2020?'}, {'role': 'assistant', 'content': 'The Los Angeles Dodgers'}, {'role': 'user', 'content': 'Where was it played?'}]}\n",
      "Failed to resolve request/response: 'dict' object has no attribute 'messages'\n"
     ]
    }
   ],
   "source": [
    "autolog(init=dict(experiment_name=\"openai_logging028\"))\n",
    "\n",
    "chat_request_kwargs = dict(\n",
    "    model=\"gpt-3.5-turbo\",\n",
    "    messages=[\n",
    "        {\"role\": \"system\", \"content\": \"You are a helpful assistant.\"},\n",
    "        {\"role\": \"user\", \"content\": \"Who won the world series in 2020?\"},\n",
    "        {\"role\": \"assistant\", \"content\": \"The Los Angeles Dodgers\"},\n",
    "        {\"role\": \"user\", \"content\": \"Where was it played?\"},\n",
    "    ],\n",
    ")\n",
    "response = openai.ChatCompletion.create(**chat_request_kwargs)"
   ]
  },
  {
   "cell_type": "code",
   "execution_count": 2,
   "metadata": {},
   "outputs": [
    {
     "name": "stdout",
     "output_type": "stream",
     "text": [
      "{\n",
      "  \"id\": \"chatcmpl-9H90g8XYqhY2BxJ5lQUNNzWJDfq3V\",\n",
      "  \"object\": \"chat.completion\",\n",
      "  \"created\": 1713873238,\n",
      "  \"model\": \"gpt-3.5-turbo-0125\",\n",
      "  \"choices\": [\n",
      "    {\n",
      "      \"index\": 0,\n",
      "      \"message\": {\n",
      "        \"role\": \"assistant\",\n",
      "        \"content\": \"The World Series in 2020 was played at Globe Life Field in Arlington, Texas.\"\n",
      "      },\n",
      "      \"logprobs\": null,\n",
      "      \"finish_reason\": \"stop\"\n",
      "    }\n",
      "  ],\n",
      "  \"usage\": {\n",
      "    \"prompt_tokens\": 44,\n",
      "    \"completion_tokens\": 18,\n",
      "    \"total_tokens\": 62\n",
      "  },\n",
      "  \"system_fingerprint\": \"fp_c2295e73ad\"\n",
      "}\n"
     ]
    }
   ],
   "source": [
    "\n",
    "chat_request_kwargs = dict(\n",
    "    model=\"gpt-3.5-turbo\",\n",
    "    messages=[\n",
    "        {\"role\": \"system\", \"content\": \"You are a helpful assistant.\"},\n",
    "        {\"role\": \"user\", \"content\": \"Who won the world series in 2020?\"},\n",
    "        {\"role\": \"assistant\", \"content\": \"The Los Angeles Dodgers\"},\n",
    "        {\"role\": \"user\", \"content\": \"Where was it played?\"},\n",
    "    ],\n",
    ")\n",
    "response = openai.ChatCompletion.create(**chat_request_kwargs)\n",
    "print(response)\n",
    "print()"
   ]
  }
 ],
 "metadata": {
  "kernelspec": {
   "display_name": "swanlab",
   "language": "python",
   "name": "python3"
  },
  "language_info": {
   "codemirror_mode": {
    "name": "ipython",
    "version": 3
   },
   "file_extension": ".py",
   "mimetype": "text/x-python",
   "name": "python",
   "nbconvert_exporter": "python",
   "pygments_lexer": "ipython3",
   "version": "3.10.13"
  }
 },
 "nbformat": 4,
 "nbformat_minor": 2
}
