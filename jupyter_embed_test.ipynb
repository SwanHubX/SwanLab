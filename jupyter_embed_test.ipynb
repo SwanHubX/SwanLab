{
 "cells": [
  {
   "cell_type": "markdown",
   "id": "09fb871d-66f0-48b1-8c29-4ce88e7db97d",
   "metadata": {},
   "source": [
    "目标是让swanlab.init在cloud=True时的嵌入效果与Wandb一致，cloud=False时的嵌入效果与Tensorboard一致。"
   ]
  },
  {
   "cell_type": "code",
   "execution_count": 1,
   "id": "14616df4-c69a-448b-8447-7fa525bd315f",
   "metadata": {},
   "outputs": [
    {
     "data": {
      "text/plain": [
       "''"
      ]
     },
     "execution_count": 1,
     "metadata": {},
     "output_type": "execute_result"
    }
   ],
   "source": [
    "%reload_ext swanlab\n",
    "%swanlab -l 123"
   ]
  },
  {
   "cell_type": "code",
   "execution_count": 2,
   "id": "9ba5b4ca-4d14-4a9f-a1b0-0d720bc9a042",
   "metadata": {},
   "outputs": [
    {
     "name": "stderr",
     "output_type": "stream",
     "text": [
      "You have already initialized a run, the init function will be ignored\n",
      "After calling finish(), you can no longer close the current experiment\n"
     ]
    }
   ],
   "source": [
    "import nest_asyncio\n",
    "nest_asyncio.apply()\n",
    "\n",
    "import swanlab\n",
    "\n",
    "# swanlab.login(api_key=\"OgNQIZrqYSpqyOSfXG9rX\")\n",
    "swanlab.init()\n",
    "\n",
    "swanlab.finish()"
   ]
  }
 ],
 "metadata": {
  "kernelspec": {
   "display_name": "Python 3 (ipykernel)",
   "language": "python",
   "name": "python3"
  },
  "language_info": {
   "codemirror_mode": {
    "name": "ipython",
    "version": 3
   },
   "file_extension": ".py",
   "mimetype": "text/x-python",
   "name": "python",
   "nbconvert_exporter": "python",
   "pygments_lexer": "ipython3",
   "version": "3.10.13"
  }
 },
 "nbformat": 4,
 "nbformat_minor": 5
}
